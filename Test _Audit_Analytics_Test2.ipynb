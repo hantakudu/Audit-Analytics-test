{
 "cells": [
  {
   "cell_type": "code",
   "execution_count": 85,
   "id": "84b4b161",
   "metadata": {},
   "outputs": [],
   "source": [
    "#Importing the libraries\n",
    "\n",
    "import numpy as np\n",
    "import pandas as pd"
   ]
  },
  {
   "cell_type": "code",
   "execution_count": 86,
   "id": "b71a9486",
   "metadata": {},
   "outputs": [],
   "source": [
    "#Creating a dataframe for each sheet from the file used for this analysis\n",
    "\n",
    "df = pd.ExcelFile(r'C:\\Users\\Dolly\\Downloads\\data.xlsx')\n",
    "df1 = pd.read_excel(df, 'Data Set 1')\n",
    "df2 = pd.read_excel(df, 'Trns Data')\n",
    "df3 = pd.read_excel(df, 'Fee Type Mapping')"
   ]
  },
  {
   "cell_type": "code",
   "execution_count": 88,
   "id": "6a68ed5b",
   "metadata": {},
   "outputs": [
    {
     "data": {
      "text/plain": [
       "Fee Code            int64\n",
       "Fee Description    object\n",
       "dtype: object"
      ]
     },
     "execution_count": 88,
     "metadata": {},
     "output_type": "execute_result"
    }
   ],
   "source": [
    "#Merging Data Set 1 with Trns Data to create a common Dataframe\n",
    "df4 = pd.merge(df1,df2, left_on = 'CS_NUMBER', right_on= \"CST_NUMBER\")\n",
    "df4.dtypes"
   ]
  },
  {
   "cell_type": "code",
   "execution_count": 89,
   "id": "5a247bfc",
   "metadata": {},
   "outputs": [
    {
     "data": {
      "text/plain": [
       "Fee Code           float64\n",
       "Fee Description     object\n",
       "dtype: object"
      ]
     },
     "execution_count": 89,
     "metadata": {},
     "output_type": "execute_result"
    }
   ],
   "source": [
    "#Changing data type for Fee Code from int to float to match \n",
    "df3['Fee Code'] = df3['Fee Code'].astype(float)\n",
    "df3.dtypes"
   ]
  },
  {
   "cell_type": "code",
   "execution_count": 80,
   "id": "a8416000",
   "metadata": {},
   "outputs": [],
   "source": [
    "#Merging common Dataframe with Fee Type Magging to align CS Number to Fee Type to create a final Dataframe\n",
    "\n",
    "df_final = pd.merge(df4,df3, left_on= 'FEE_TYPE', right_on = 'Fee Code')"
   ]
  },
  {
   "cell_type": "code",
   "execution_count": 90,
   "id": "0d5462ed",
   "metadata": {},
   "outputs": [
    {
     "data": {
      "text/plain": [
       "CS_NUMBER                          int64\n",
       "DOB                       datetime64[ns]\n",
       "CST_NUMBER                         int64\n",
       "Transaction / Fee Date    datetime64[ns]\n",
       "Value                            float64\n",
       "FEE_TYPE                         float64\n",
       "Fee Code                         float64\n",
       "Fee Description                   object\n",
       "dtype: object"
      ]
     },
     "execution_count": 90,
     "metadata": {},
     "output_type": "execute_result"
    }
   ],
   "source": [
    "df_final.dtypes"
   ]
  },
  {
   "cell_type": "code",
   "execution_count": 82,
   "id": "0aabbd9c",
   "metadata": {},
   "outputs": [
    {
     "data": {
      "text/plain": [
       "CS_NUMBER                          int64\n",
       "DOB                       datetime64[ns]\n",
       "CST_NUMBER                         int64\n",
       "Transaction / Fee Date    datetime64[ns]\n",
       "Value                            float64\n",
       "FEE_TYPE                         float64\n",
       "Fee Code                         float64\n",
       "Fee Description                   object\n",
       "dtype: object"
      ]
     },
     "execution_count": 82,
     "metadata": {},
     "output_type": "execute_result"
    }
   ],
   "source": [
    "#Changing the datetime format of DOB column. Also, DOB column has many out of bound dates which couldn't be changes, hence used coerce option\n",
    "\n",
    "df_final['DOB'] = pd.to_datetime(df_final['DOB'], infer_datetime_format=True, errors = 'coerce') \n",
    "\n",
    "\n",
    "df_final.dtypes"
   ]
  },
  {
   "cell_type": "code",
   "execution_count": 95,
   "id": "6a45a461",
   "metadata": {},
   "outputs": [
    {
     "name": "stdout",
     "output_type": "stream",
     "text": [
      "       CS_NUMBER\n",
      "40729       1284\n",
      "40792       2377\n",
      "40803       2538\n",
      "40819       2836\n",
      "40889       3970\n",
      "40953       5213\n",
      "40991       5742\n",
      "41076       7186\n",
      "41119       7898\n",
      "41138       8170\n",
      "41316      11080\n",
      "41402      12411\n",
      "41654      17108\n",
      "41708      18147\n",
      "41743      18689\n",
      "41793      19443\n",
      "41818      19765\n",
      "43175       3838\n",
      "43196       4336\n",
      "43248       5252\n",
      "43268       5645\n",
      "43314       6270\n",
      "43327       6533\n",
      "43344       6870\n",
      "43385       7903\n",
      "43387       7937\n",
      "43391       8053\n",
      "43451       9346\n",
      "43489      10108\n",
      "43536      11083\n",
      "43568      11545\n",
      "43570      11577\n",
      "43670      13214\n",
      "43703      13750\n",
      "43968      18762\n",
      "44006      19455\n",
      "44026      19765\n"
     ]
    }
   ],
   "source": [
    "#Filtering DOB falling after 1 September 2003 and Fee type of any type of Overdraft Fee\n",
    "\n",
    "cst1 = df_final.loc[(df_final['DOB'] > '2003-09-01') & (df_final['Fee Description'].str.contains('Overdraft Fee', regex = True))]\n",
    "print(cst1.iloc[:,0:1])"
   ]
  },
  {
   "cell_type": "code",
   "execution_count": null,
   "id": "22bdac14",
   "metadata": {},
   "outputs": [],
   "source": []
  }
 ],
 "metadata": {
  "kernelspec": {
   "display_name": "Python 3 (ipykernel)",
   "language": "python",
   "name": "python3"
  },
  "language_info": {
   "codemirror_mode": {
    "name": "ipython",
    "version": 3
   },
   "file_extension": ".py",
   "mimetype": "text/x-python",
   "name": "python",
   "nbconvert_exporter": "python",
   "pygments_lexer": "ipython3",
   "version": "3.9.7"
  }
 },
 "nbformat": 4,
 "nbformat_minor": 5
}
