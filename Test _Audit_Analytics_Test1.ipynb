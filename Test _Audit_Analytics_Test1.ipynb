{
 "cells": [
  {
   "cell_type": "code",
   "execution_count": 194,
   "id": "b82fd3a3",
   "metadata": {},
   "outputs": [
    {
     "data": {
      "text/plain": [
       "CST_NUMBER                     int64\n",
       "RISK_RATING                   object\n",
       "DATE_LAST_ASSESSED    datetime64[ns]\n",
       "dtype: object"
      ]
     },
     "execution_count": 194,
     "metadata": {},
     "output_type": "execute_result"
    }
   ],
   "source": [
    "import numpy as np\n",
    "import pandas as pd\n",
    "import openpyxl\n",
    "\n",
    "data = pd.read_excel(r'C:\\Users\\Dolly\\Downloads\\data.xlsx', sheet_name='Data Set 2')\n",
    "type(data)\n",
    "\n",
    "data.fillna('Missing')\n",
    "data.dtypes\n",
    "\n"
   ]
  },
  {
   "cell_type": "code",
   "execution_count": 195,
   "id": "740d3127",
   "metadata": {},
   "outputs": [
    {
     "data": {
      "text/plain": [
       "Low       17540\n",
       "Medium     2017\n",
       "High        385\n",
       "H            65\n",
       "Name: RISK_RATING, dtype: int64"
      ]
     },
     "execution_count": 195,
     "metadata": {},
     "output_type": "execute_result"
    }
   ],
   "source": [
    "data['RISK_RATING'].value_counts()\n",
    "\n",
    "# We have a total of 385 CST numbers with high rating and 65 CST numbers with H rating. "
   ]
  },
  {
   "cell_type": "code",
   "execution_count": 196,
   "id": "f68dc11c",
   "metadata": {
    "scrolled": true
   },
   "outputs": [
    {
     "data": {
      "text/html": [
       "<div>\n",
       "<style scoped>\n",
       "    .dataframe tbody tr th:only-of-type {\n",
       "        vertical-align: middle;\n",
       "    }\n",
       "\n",
       "    .dataframe tbody tr th {\n",
       "        vertical-align: top;\n",
       "    }\n",
       "\n",
       "    .dataframe thead th {\n",
       "        text-align: right;\n",
       "    }\n",
       "</style>\n",
       "<table border=\"1\" class=\"dataframe\">\n",
       "  <thead>\n",
       "    <tr style=\"text-align: right;\">\n",
       "      <th></th>\n",
       "      <th>CST_NUMBER</th>\n",
       "      <th>RISK_RATING</th>\n",
       "      <th>DATE_LAST_ASSESSED</th>\n",
       "    </tr>\n",
       "  </thead>\n",
       "  <tbody>\n",
       "    <tr>\n",
       "      <th>63</th>\n",
       "      <td>64</td>\n",
       "      <td>High</td>\n",
       "      <td>2019-02-17</td>\n",
       "    </tr>\n",
       "    <tr>\n",
       "      <th>363</th>\n",
       "      <td>364</td>\n",
       "      <td>High</td>\n",
       "      <td>2019-01-14</td>\n",
       "    </tr>\n",
       "    <tr>\n",
       "      <th>812</th>\n",
       "      <td>814</td>\n",
       "      <td>High</td>\n",
       "      <td>2019-10-29</td>\n",
       "    </tr>\n",
       "    <tr>\n",
       "      <th>1343</th>\n",
       "      <td>1346</td>\n",
       "      <td>High</td>\n",
       "      <td>2017-10-09</td>\n",
       "    </tr>\n",
       "    <tr>\n",
       "      <th>2183</th>\n",
       "      <td>2190</td>\n",
       "      <td>High</td>\n",
       "      <td>2017-06-20</td>\n",
       "    </tr>\n",
       "    <tr>\n",
       "      <th>5680</th>\n",
       "      <td>5692</td>\n",
       "      <td>High</td>\n",
       "      <td>2019-04-01</td>\n",
       "    </tr>\n",
       "    <tr>\n",
       "      <th>9431</th>\n",
       "      <td>9454</td>\n",
       "      <td>High</td>\n",
       "      <td>2017-11-16</td>\n",
       "    </tr>\n",
       "    <tr>\n",
       "      <th>10095</th>\n",
       "      <td>10119</td>\n",
       "      <td>High</td>\n",
       "      <td>2019-06-23</td>\n",
       "    </tr>\n",
       "    <tr>\n",
       "      <th>10280</th>\n",
       "      <td>10304</td>\n",
       "      <td>High</td>\n",
       "      <td>2017-04-14</td>\n",
       "    </tr>\n",
       "    <tr>\n",
       "      <th>10648</th>\n",
       "      <td>10674</td>\n",
       "      <td>High</td>\n",
       "      <td>2019-10-11</td>\n",
       "    </tr>\n",
       "    <tr>\n",
       "      <th>10757</th>\n",
       "      <td>10783</td>\n",
       "      <td>High</td>\n",
       "      <td>2017-09-04</td>\n",
       "    </tr>\n",
       "    <tr>\n",
       "      <th>11643</th>\n",
       "      <td>11671</td>\n",
       "      <td>High</td>\n",
       "      <td>2017-05-20</td>\n",
       "    </tr>\n",
       "    <tr>\n",
       "      <th>12699</th>\n",
       "      <td>12728</td>\n",
       "      <td>High</td>\n",
       "      <td>2017-07-14</td>\n",
       "    </tr>\n",
       "    <tr>\n",
       "      <th>12858</th>\n",
       "      <td>12887</td>\n",
       "      <td>High</td>\n",
       "      <td>2018-01-20</td>\n",
       "    </tr>\n",
       "    <tr>\n",
       "      <th>15331</th>\n",
       "      <td>15361</td>\n",
       "      <td>High</td>\n",
       "      <td>2017-11-16</td>\n",
       "    </tr>\n",
       "    <tr>\n",
       "      <th>15676</th>\n",
       "      <td>15707</td>\n",
       "      <td>High</td>\n",
       "      <td>2019-12-12</td>\n",
       "    </tr>\n",
       "    <tr>\n",
       "      <th>15819</th>\n",
       "      <td>15850</td>\n",
       "      <td>High</td>\n",
       "      <td>2019-04-28</td>\n",
       "    </tr>\n",
       "    <tr>\n",
       "      <th>17164</th>\n",
       "      <td>17199</td>\n",
       "      <td>High</td>\n",
       "      <td>2019-08-31</td>\n",
       "    </tr>\n",
       "    <tr>\n",
       "      <th>17450</th>\n",
       "      <td>17485</td>\n",
       "      <td>High</td>\n",
       "      <td>2017-11-20</td>\n",
       "    </tr>\n",
       "    <tr>\n",
       "      <th>17866</th>\n",
       "      <td>17902</td>\n",
       "      <td>High</td>\n",
       "      <td>2017-11-20</td>\n",
       "    </tr>\n",
       "  </tbody>\n",
       "</table>\n",
       "</div>"
      ],
      "text/plain": [
       "       CST_NUMBER RISK_RATING DATE_LAST_ASSESSED\n",
       "63             64        High         2019-02-17\n",
       "363           364        High         2019-01-14\n",
       "812           814        High         2019-10-29\n",
       "1343         1346        High         2017-10-09\n",
       "2183         2190        High         2017-06-20\n",
       "5680         5692        High         2019-04-01\n",
       "9431         9454        High         2017-11-16\n",
       "10095       10119        High         2019-06-23\n",
       "10280       10304        High         2017-04-14\n",
       "10648       10674        High         2019-10-11\n",
       "10757       10783        High         2017-09-04\n",
       "11643       11671        High         2017-05-20\n",
       "12699       12728        High         2017-07-14\n",
       "12858       12887        High         2018-01-20\n",
       "15331       15361        High         2017-11-16\n",
       "15676       15707        High         2019-12-12\n",
       "15819       15850        High         2019-04-28\n",
       "17164       17199        High         2019-08-31\n",
       "17450       17485        High         2017-11-20\n",
       "17866       17902        High         2017-11-20"
      ]
     },
     "metadata": {},
     "output_type": "display_data"
    }
   ],
   "source": [
    "#Final result Assuming High and H do not correspond to the same rating\n",
    "\n",
    "data['DATE_LAST_ASSESSED'] = pd.to_datetime(data['DATE_LAST_ASSESSED'], format='%Y-%m-%d')\n",
    "\n",
    "cst = np.where((data['RISK_RATING'] == 'High') & (data['DATE_LAST_ASSESSED'] < '2020-01-01'))\n",
    "cst\n",
    "display(data.loc[cst])\n",
    "\n",
    "#print(\"Final result is:\",cst)"
   ]
  },
  {
   "cell_type": "code",
   "execution_count": 191,
   "id": "07986078",
   "metadata": {},
   "outputs": [
    {
     "data": {
      "text/plain": [
       "Low       17540\n",
       "Medium     2017\n",
       "High        450\n",
       "Name: RISK_RATING, dtype: int64"
      ]
     },
     "execution_count": 191,
     "metadata": {},
     "output_type": "execute_result"
    }
   ],
   "source": [
    "#Final result Assuming High and H correspond to the same rating. We replace H with High.\n",
    "\n",
    "data['RISK_RATING'].replace({\"H\": \"High\"}, inplace=True)\n",
    "data['RISK_RATING'].value_counts()"
   ]
  },
  {
   "cell_type": "code",
   "execution_count": 187,
   "id": "377bbba5",
   "metadata": {
    "scrolled": true
   },
   "outputs": [
    {
     "name": "stdout",
     "output_type": "stream",
     "text": [
      "       CST_NUMBER\n",
      "63             64\n",
      "363           364\n",
      "812           814\n",
      "1343         1346\n",
      "2183         2190\n",
      "2969         2978\n",
      "4285         4296\n",
      "5680         5692\n",
      "9431         9454\n",
      "10095       10119\n",
      "10280       10304\n",
      "10648       10674\n",
      "10757       10783\n",
      "11643       11671\n",
      "12699       12728\n",
      "12858       12887\n",
      "15331       15361\n",
      "15676       15707\n",
      "15819       15850\n",
      "17164       17199\n",
      "17450       17485\n",
      "17866       17902\n",
      "17955       17991\n",
      "18304       18340\n"
     ]
    }
   ],
   "source": [
    "data['DATE_LAST_ASSESSED'] = pd.to_datetime(data['DATE_LAST_ASSESSED'], format='%Y-%m-%d')\n",
    "\n",
    "cst1 = data.loc[(data['RISK_RATING'] == 'High') & (data['DATE_LAST_ASSESSED'] < '2020-01-01')]\n",
    "\n",
    "type(cst1)\n",
    "cst1.count()\n",
    "cst1.iloc[:,0:1].count()\n",
    "print(cst1.iloc[:,0:1])"
   ]
  },
  {
   "cell_type": "code",
   "execution_count": null,
   "id": "a9aa9b5b",
   "metadata": {},
   "outputs": [],
   "source": []
  }
 ],
 "metadata": {
  "kernelspec": {
   "display_name": "Python 3 (ipykernel)",
   "language": "python",
   "name": "python3"
  },
  "language_info": {
   "codemirror_mode": {
    "name": "ipython",
    "version": 3
   },
   "file_extension": ".py",
   "mimetype": "text/x-python",
   "name": "python",
   "nbconvert_exporter": "python",
   "pygments_lexer": "ipython3",
   "version": "3.9.7"
  }
 },
 "nbformat": 4,
 "nbformat_minor": 5
}
